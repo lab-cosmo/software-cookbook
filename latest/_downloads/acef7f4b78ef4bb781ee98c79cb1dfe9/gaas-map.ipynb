{
  "cells": [
    {
      "cell_type": "markdown",
      "metadata": {},
      "source": [
        "\n# PCA/PCovR Visualization for the rattled GaAs training dataset\n\n:Authors: Michele Ceriotti [@ceriottm](https://github.com/ceriottm/),\n          Giulio Imbalzano\n\nThis example uses ``rascaline`` and ``metatensor`` to compute\nstructural properties for the structures in a training for a ML model.\nThese are then used with simple dimensionality reduction algorithms\n(implemented in ``sklearn`` and ``skmatter``) to obtain a simplified\ndescription of the dataset, that is then visualized using\n``chemiscope``.\n"
      ]
    },
    {
      "cell_type": "code",
      "execution_count": null,
      "metadata": {
        "collapsed": false
      },
      "outputs": [],
      "source": [
        "import os\n\nimport ase\nimport ase.io\nimport chemiscope\nimport numpy as np\nimport requests\nfrom matplotlib import pyplot as plt\nfrom metatensor import mean_over_samples\nfrom rascaline import AtomicComposition, SoapPowerSpectrum\nfrom sklearn.decomposition import PCA\nfrom sklearn.linear_model import RidgeCV\nfrom skmatter.decomposition import PCovR\nfrom skmatter.preprocessing import StandardFlexibleScaler"
      ]
    },
    {
      "cell_type": "markdown",
      "metadata": {},
      "source": [
        "First, we load the structures, extracting some of the properties for\nmore convenient manipulation. These are\n$\\mathrm{Ga}_x\\mathrm{As}_{1-x}$ structures used in [Imbalzano &\nCeriotti (2021)](http://doi.org/10.1103/PhysRevMaterials.5.063804)_ to\ntrain a ML potential to describe the full composition range.\n\n\n"
      ]
    },
    {
      "cell_type": "code",
      "execution_count": null,
      "metadata": {
        "collapsed": false
      },
      "outputs": [],
      "source": [
        "filename = \"gaas_training.xyz\"\nif not os.path.exists(filename):\n    url = f\"https://zenodo.org/records/10566825/files/{filename}\"\n    response = requests.get(url)\n    response.raise_for_status()\n    with open(filename, \"wb\") as f:\n        f.write(response.content)\n\nstructures = ase.io.read(filename, \":\")\nenergy = np.array([f.info[\"energy\"] for f in structures])\nnatoms = np.array([len(f) for f in structures])"
      ]
    },
    {
      "cell_type": "markdown",
      "metadata": {},
      "source": [
        "## Remove atomic energy baseline\n\nEnergies from an electronic structure calculation contain a very large\n\u201cself\u201d contributions from the atoms, which can obscure the important\ndifferences in cohesive energies between structures. We can build an\napproximate model based on the chemical nature of the atoms, $a_i$\n\n\\begin{align}E(A) = \\sum_{i\\in A} e_{a_i}\\end{align}\n\nwhere $e_a$ are atomic energies that can be determined by linear\nregression.\n\n\n"
      ]
    },
    {
      "cell_type": "code",
      "execution_count": null,
      "metadata": {
        "collapsed": false
      },
      "outputs": [],
      "source": [
        "# rascaline has an `AtomicComposition` calculator that streamlines\n# this (simple) calculation\ncalculator = AtomicComposition(**{\"per_structure\": True})\nrho0 = calculator.compute(structures)\n\n# the descriptors are returned as a `TensorMap` object, that contains\n# the composition data in a sparse storage format\nrho0\n\n# for easier manipulation, we extract the features as a dense vector\n# of composition weights\ncomp_feats = rho0.keys_to_properties([\"species_center\"]).block(0).values\n\n# a one-liner to fit a linear model and compute \"dressed energies\"\natom_energy = (\n    RidgeCV(alphas=np.geomspace(1e-8, 1e2, 20))\n    .fit(comp_feats, energy)\n    .predict(comp_feats)\n)\ncohesive_peratom = (energy - atom_energy) / natoms"
      ]
    },
    {
      "cell_type": "markdown",
      "metadata": {},
      "source": [
        "The baseline makes up a large fraction of the total energy, but actually\nthe residual (which is the part that matters) is still large.\n\n\n"
      ]
    },
    {
      "cell_type": "code",
      "execution_count": null,
      "metadata": {
        "collapsed": false
      },
      "outputs": [],
      "source": [
        "fig, ax = plt.subplots(1, 1, figsize=(6, 4))\nax.plot(energy / natoms, atom_energy / natoms, \"b.\")\nax.set_xlabel(\"Energy / (eV/atom)\")\nax.set_ylabel(\"Atomic e. / (eV/atom)\")\nprint(f\"RMSE / (eV/atom): {np.sqrt(np.mean((cohesive_peratom)**2))}\")"
      ]
    },
    {
      "cell_type": "markdown",
      "metadata": {},
      "source": [
        "## Compute structural descriptors\n\nIn order to visualize the structures as a low-dimensional map, we start\nby computing suitable ML descriptors. Here we have used ``rascaline`` to\nevaluate average SOAP features for the structures.\n\n\n"
      ]
    },
    {
      "cell_type": "code",
      "execution_count": null,
      "metadata": {
        "collapsed": false
      },
      "outputs": [],
      "source": [
        "# hypers for evaluating rascaline features\nhypers = {\n    \"cutoff\": 4.5,\n    \"max_radial\": 6,\n    \"max_angular\": 4,\n    \"atomic_gaussian_width\": 0.3,\n    \"cutoff_function\": {\"ShiftedCosine\": {\"width\": 0.5}},\n    \"radial_basis\": {\"Gto\": {\"accuracy\": 1e-6}},\n    \"center_atom_weight\": 1.0,\n}\ncalculator = SoapPowerSpectrum(**hypers)\nrho2i = calculator.compute(structures)\n\n# neighbor types go to the keys for sparsity (this way one can\n# compute a heterogeneous dataset without having blocks of zeros)\nrho2i = rho2i.keys_to_samples([\"species_center\"]).keys_to_properties(\n    [\"species_neighbor_1\", \"species_neighbor_2\"]\n)\n\n# computes structure-level descriptors and then extracts\n# the features as a dense array\nrho2i_structure = mean_over_samples(rho2i, sample_names=[\"center\", \"species_center\"])\nrho2i = None  # releases memory\nfeatures = rho2i_structure.block(0).values"
      ]
    },
    {
      "cell_type": "markdown",
      "metadata": {},
      "source": [
        "We standardize (per atom) energy and features (computed as a *mean* over\natomic environments) so that they can be combined on the same footings.\n\n\n"
      ]
    },
    {
      "cell_type": "code",
      "execution_count": null,
      "metadata": {
        "collapsed": false
      },
      "outputs": [],
      "source": [
        "sf_energy = StandardFlexibleScaler().fit_transform(cohesive_peratom.reshape(-1, 1))\nsf_feats = StandardFlexibleScaler().fit_transform(features)"
      ]
    },
    {
      "cell_type": "markdown",
      "metadata": {},
      "source": [
        "## PCA and PCovR projection\n\nComputes PCA projection to generate low-dimensional descriptors that\nreflect structural diversity. Any other dimensionality reduction scheme\ncould be used in a similar fashion.\n\nWe also compute the principal covariate regression (PCovR) descriptors,\nthat reduce dimensionality while combining a variance preserving\ncriterion with the requirement that the low-dimensional features are\ncapable of estimating a target quantity (here, the energy).\n\n\n"
      ]
    },
    {
      "cell_type": "code",
      "execution_count": null,
      "metadata": {
        "collapsed": false
      },
      "outputs": [],
      "source": [
        "# PCA\npca = PCA(n_components=4)\npca_features = pca.fit_transform(sf_feats)\n\nfig, ax = plt.subplots(1, 1, figsize=(6, 4))\nscatter = ax.scatter(pca_features[:, 0], pca_features[:, 1], c=cohesive_peratom)\nax.set_xlabel(\"PCA[1]\")\nax.set_ylabel(\"PCA[2]\")\ncbar = fig.colorbar(scatter, ax=ax)\ncbar.set_label(\"energy / eV/at.\")\n\n# computes PCovR map\npcovr = PCovR(n_components=4)\npcovr_features = pcovr.fit_transform(sf_feats, sf_energy)\n\nfig, ax = plt.subplots(1, 1, figsize=(6, 4))\nscatter = ax.scatter(pcovr_features[:, 0], pcovr_features[:, 1], c=cohesive_peratom)\nax.set_xlabel(\"PCovR[1]\")\nax.set_ylabel(\"PCovR[2]\")\ncbar = fig.colorbar(scatter, ax=ax)\ncbar.set_label(\"energy / (eV/at.)\")"
      ]
    },
    {
      "cell_type": "markdown",
      "metadata": {},
      "source": [
        "## Chemiscope visualization\n\nVisualizes the structure-property map using a chemiscope widget (and\ngenerates a .json file that can be viewed on\n[chemiscope.org](https://chemiscope.org)_).\n\n\n"
      ]
    },
    {
      "cell_type": "code",
      "execution_count": null,
      "metadata": {
        "collapsed": false
      },
      "outputs": [],
      "source": [
        "# extracts force data (adding considerably to the dataset size...)\nforce_vectors = chemiscope.ase_vectors_to_arrows(structures, scale=1)\nforce_vectors[\"parameters\"][\"global\"][\"color\"] = 0x505050\n\n# adds properties to the ASE frames\nfor i, f in enumerate(structures):\n    for j in range(len(pca_features[i])):\n        f.info[\"pca_\" + str(j + 1)] = pca_features[i, j]\nfor i, f in enumerate(structures):\n    for j in range(len(pcovr_features[i])):\n        f.info[\"pcovr_\" + str(j + 1)] = pcovr_features[i, j]\nfor i, f in enumerate(structures):\n    f.info[\"cohesive_energy\"] = cohesive_peratom[i]\n    f.info[\"x_ga\"] = comp_feats[i, 0] / comp_feats[i].sum()\n\n# it would also be easy to add the properties manually, this is just a dictionary\nstructure_properties = chemiscope.extract_properties(structures)\n\ncs = chemiscope.show(\n    frames=structures,\n    properties=structure_properties,\n    shapes={\"forces\": force_vectors},\n    # the settings are a tad verbose, but give full control over the visualization\n    settings={\n        \"map\": {\n            \"x\": {\"property\": \"pcovr_1\"},\n            \"y\": {\"property\": \"pcovr_2\"},\n            \"color\": {\"property\": \"x_ga\"},\n        },\n        \"structure\": [\n            {\n                \"bonds\": True,\n                \"unitCell\": True,\n                \"shape\": [\"forces\"],\n                \"keepOrientation\": False,\n            }\n        ],\n    },\n    meta={\n        \"name\": \"GaAs training data\",\n        \"description\": \"\"\"\nA collection of Ga(x)As(1-x) structures to train a MLIP,\nincluding force and energy data.\n\"\"\",\n        \"authors\": [\"Giulio Imbalzano\", \"Michele Ceriotti\"],\n        \"references\": [\n            \"\"\"\nG. Imbalzano and M. Ceriotti, 'Modeling the Ga/As binary system across\ntemperatures and compositions from first principles,'\nPhys. Rev. Materials 5(6), 063804 (2021).\n\"\"\",\n            \"Original dataset: https://archive.materialscloud.org/record/2021.226\",\n        ],\n    },\n)\n\ncs.save(\"gaas_map.chemiscope.json.gz\")\n\ncs  # display if in a notebook"
      ]
    }
  ],
  "metadata": {
    "kernelspec": {
      "display_name": "Python 3",
      "language": "python",
      "name": "python3"
    },
    "language_info": {
      "codemirror_mode": {
        "name": "ipython",
        "version": 3
      },
      "file_extension": ".py",
      "mimetype": "text/x-python",
      "name": "python",
      "nbconvert_exporter": "python",
      "pygments_lexer": "ipython3",
      "version": "3.11.9"
    }
  },
  "nbformat": 4,
  "nbformat_minor": 0
}