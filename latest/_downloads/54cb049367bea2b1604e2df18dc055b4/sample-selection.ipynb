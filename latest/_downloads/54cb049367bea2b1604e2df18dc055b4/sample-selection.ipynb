{
  "cells": [
    {
      "cell_type": "markdown",
      "metadata": {},
      "source": [
        "\n# Sample and Feature Selection with FPS and CUR\n\n:Authors: Davide Tisi [@DavideTisi](https://github.com/DavideTisi)\n\nIn this tutorial we generate descriptors using rascaline, then select a subset\nof structures using both the farthest-point sampling (FPS) and CUR algorithms\nimplemented in scikit-matter. Finally, we also generate a selection of\nthe most important features using the same techniques.\n\nFirst, import all the necessary packages\n"
      ]
    },
    {
      "cell_type": "code",
      "execution_count": null,
      "metadata": {
        "collapsed": false
      },
      "outputs": [],
      "source": [
        "import ase.io\nimport chemiscope\nimport metatensor\nimport numpy as np\nfrom equisolve.numpy import feature_selection, sample_selection\nfrom matplotlib import pyplot as plt\nfrom rascaline import SoapPowerSpectrum\nfrom sklearn.decomposition import PCA\nfrom skmatter import feature_selection as skfeat_selection"
      ]
    },
    {
      "cell_type": "markdown",
      "metadata": {},
      "source": [
        "## Load molecular data\n\nLoad 500 example BTO structures from file, reading them using\n[ASE](https://wiki.fysik.dtu.dk/ase/).\n\n"
      ]
    },
    {
      "cell_type": "code",
      "execution_count": null,
      "metadata": {
        "collapsed": false
      },
      "outputs": [],
      "source": [
        "# Load a subset of :download:`structures <input-fps.xyz>` of the example dataset\nn_frames = 500\nframes = ase.io.read(\"input-fps.xyz\", f\":{n_frames}\", format=\"extxyz\")"
      ]
    },
    {
      "cell_type": "markdown",
      "metadata": {},
      "source": [
        "## Compute SOAP descriptors using rascaline\n\nFirst, define the rascaline hyperparameters used to compute SOAP.\n\n"
      ]
    },
    {
      "cell_type": "code",
      "execution_count": null,
      "metadata": {
        "collapsed": false
      },
      "outputs": [],
      "source": [
        "# rascaline hyperparameters\nhypers = {\n    \"cutoff\": 6.0,\n    \"max_radial\": 8,\n    \"max_angular\": 6,\n    \"atomic_gaussian_width\": 0.3,\n    \"cutoff_function\": {\"ShiftedCosine\": {\"width\": 0.5}},\n    \"radial_basis\": {\"Gto\": {\"accuracy\": 1e-6}},\n    \"radial_scaling\": {\"Willatt2018\": {\"exponent\": 4, \"rate\": 1, \"scale\": 3.5}},\n    \"center_atom_weight\": 1.0,\n}\n\n# Generate a SOAP power spectrum\ncalculator = SoapPowerSpectrum(**hypers)\nrho2i = calculator.compute(frames)\n\n\n# Makes a dense block\natom_soap = rho2i.keys_to_properties([\"species_neighbor_1\", \"species_neighbor_2\"])\n\natom_soap_single_block = atom_soap.keys_to_samples(keys_to_move=[\"species_center\"])\n\n# Sum over atomic centers to compute structure features\nstruct_soap = metatensor.sum_over_samples(\n    atom_soap_single_block, sample_names=[\"center\", \"species_center\"]\n)\n\n\nprint(\"atom feature descriptor shape:\", atom_soap.block(0).values.shape)\nprint(\n    \"atom feature descriptor (all in one block) shape:\",\n    atom_soap_single_block.block(0).values.shape,\n)\nprint(\"structure feature descriptor shape:\", struct_soap.block(0).values.shape)"
      ]
    },
    {
      "cell_type": "markdown",
      "metadata": {},
      "source": [
        "## Perform atomic environment (i.e. sample) selection\n\nUsing FPS and CUR algorithms, we can perform selection of atomic environments.\nThese are implemented in equisolve, which provides a wrapper around\nscikit-matter to allow for interfacing with data stored in the metatensor\nformat.\n\nSuppose we want to select the 10 most diverse environments for each chemical\nspecies.\n\nFirst, we can use the `keys_to_properties` operation in metatensor to move the\nneighbour species indices to the properties of the TensorBlocks. The resulting\ndescriptor will be a TensorMap comprised of three blocks, one for each\nchemical species, where the chemical species indices are solely present in the\nkeys.\n\n"
      ]
    },
    {
      "cell_type": "code",
      "execution_count": null,
      "metadata": {
        "collapsed": false
      },
      "outputs": [],
      "source": [
        "print(\"----Atomic environment selection-----\")\n# Define the number of structures to select using FPS/CUR\nn_envs = 25\n\nprint(atom_soap)\nprint(atom_soap.block(0))"
      ]
    },
    {
      "cell_type": "markdown",
      "metadata": {},
      "source": [
        "select 10 atomic environments for each chemical species.\n\n"
      ]
    },
    {
      "cell_type": "code",
      "execution_count": null,
      "metadata": {
        "collapsed": false
      },
      "outputs": [],
      "source": [
        "# Define the number of structures *per block* to select using FPS\nn_envs = 10\n\n# FPS sample selection\nselector_atomic_fps = sample_selection.FPS(n_to_select=n_envs, initialize=\"random\").fit(\n    atom_soap\n)\n\n# Print the selected envs for each block\nprint(\"atomic envs selected with FPS:\\n\")\nfor key, block in selector_atomic_fps.support.items():\n    print(\"species_center:\", key, \"\\n(struct_idx, atom_idx)\\n\", block.samples.values)\n\nselector_atomic_cur = sample_selection.CUR(n_to_select=n_envs).fit(atom_soap)\n# Print the selected envs for each block\nprint(\"atomic envs selected with CUR:\\n\")\nfor key, block in selector_atomic_cur.support.items():\n    print(\"species_center:\", key, \"\\n(struct_idx, atom_idx)\\n\", block.samples.values)"
      ]
    },
    {
      "cell_type": "markdown",
      "metadata": {},
      "source": [
        "## Selecting from a combined pool of atomic environments\n\nOne can also select from a combined pool of atomic environments and\nstructures, instead of selecting an equal number of atomic environments for\neach chemical species. In this case, we can move the 'species_center' key to samples\nsuch that our descriptor is a TensorMap consisting of a single block. Upon\nsample selection, the most diverse atomic environments will be selected,\nregardless of their chemical species.\n\n"
      ]
    },
    {
      "cell_type": "code",
      "execution_count": null,
      "metadata": {
        "collapsed": false
      },
      "outputs": [],
      "source": [
        "print(\"----All atomic environment selection-----\")\n\nprint(\"keys\", atom_soap.keys)\nprint(\"blocks\", atom_soap[0])\nprint(\"samples in first block\", atom_soap[0].samples)\n\n# Using the original SOAP descriptor, move all keys to properties.\n\n\n# Define the number of structures to select using FPS\nn_envs = 10\n\n# FPS sample selection\nselector_atomic_fps = sample_selection.FPS(n_to_select=n_envs, initialize=\"random\").fit(\n    atom_soap_single_block\n)\nprint(\n    \"atomic envs selected with FPS: \\n (struct_idx, atom_idx, species_center) \\n\",\n    selector_atomic_fps.support.block(0).samples.values,\n)"
      ]
    },
    {
      "cell_type": "markdown",
      "metadata": {},
      "source": [
        "## Perform structure (i.e. sample) selection with FPS/CUR\n\nInstead of atomic environments, one can also select diverse structures. We can\nuse the `sum_over_samples` operation in metatensor to define features in the\nstructural basis instead of the atomic basis. This is done by summing over the\natomic environments, labeled by the 'center' index in the samples of the\nTensorMap.\n\nAlternatively, one could use the `mean_over_samples` operation, depending on\nthe specific inhomogeneity of the size of the structures in the training set.\n\n"
      ]
    },
    {
      "cell_type": "code",
      "execution_count": null,
      "metadata": {
        "collapsed": false
      },
      "outputs": [],
      "source": [
        "print(\"----Structure selection-----\")\n\n# Define the number of structures to select *per block* using FPS\nn_structures = 10\n\n# FPS structure selection\nselector_struct_fps = sample_selection.FPS(\n    n_to_select=n_structures, initialize=\"random\"\n).fit(struct_soap)\nstruct_fps_idxs = selector_struct_fps.support.block(0).samples.values.flatten()\n\nprint(\"structures selected with FPS:\\n\", struct_fps_idxs)\n\n# CUR structure selection\nselector_struct_cur = sample_selection.CUR(n_to_select=n_structures).fit(struct_soap)\nstruct_cur_idxs = selector_struct_cur.support.block(0).samples.values.flatten()\nprint(\"structures selected with CUR:\\n\", struct_cur_idxs)\n\n\n# Slice structure descriptor along axis 0 to contain only the selected structures\nstruct_soap_fps = struct_soap.block(0).values[struct_fps_idxs, :]\nstruct_soap_cur = struct_soap.block(0).values[struct_cur_idxs, :]\nassert struct_soap_fps.shape == struct_soap_cur.shape\n\nprint(\"Structure descriptor shape before selection \", struct_soap.block(0).values.shape)\nprint(\"Structure descriptor shape after selection (FPS)\", struct_soap_fps.shape)\nprint(\"Structure descriptor shape after selection (CUR)\", struct_soap_cur.shape)"
      ]
    },
    {
      "cell_type": "markdown",
      "metadata": {},
      "source": [
        "## Visualize selected structures\n\nsklearn can be used to perform PCA dimensionality reduction on the SOAP\ndescriptors. The resulting PC coordinates can be used to visualize the the\ndata alongside their structures in a chemiscope widget.\n\n\n"
      ]
    },
    {
      "cell_type": "code",
      "execution_count": null,
      "metadata": {
        "collapsed": false
      },
      "outputs": [],
      "source": [
        "# Generate a structure PCA\nstruct_soap_pca = PCA(n_components=2).fit_transform(struct_soap.block(0).values)\nassert struct_soap_pca.shape == (n_frames, 2)"
      ]
    },
    {
      "cell_type": "markdown",
      "metadata": {},
      "source": [
        "### Plot the PCA map\n\nNotice how the selected points avoid the densely-sampled area, and cover\nthe periphery of the dataset\n\n"
      ]
    },
    {
      "cell_type": "code",
      "execution_count": null,
      "metadata": {
        "collapsed": false
      },
      "outputs": [],
      "source": [
        "# Matplotlib plot\nfig, ax = plt.subplots(1, 1, figsize=(6, 4))\nscatter = ax.scatter(struct_soap_pca[:, 0], struct_soap_pca[:, 1], c=\"red\")\nax.plot(\n    struct_soap_pca[struct_cur_idxs, 0],\n    struct_soap_pca[struct_cur_idxs, 1],\n    \"ko\",\n    fillstyle=\"none\",\n    label=\"FPS selection\",\n)\nax.set_xlabel(\"PCA[1]\")\nax.set_ylabel(\"PCA[2]\")\nax.legend()\nfig.show()"
      ]
    },
    {
      "cell_type": "markdown",
      "metadata": {},
      "source": [
        "### Creates a chemiscope viewer\n\n\n"
      ]
    },
    {
      "cell_type": "code",
      "execution_count": null,
      "metadata": {
        "collapsed": false
      },
      "outputs": [],
      "source": [
        "# Selected level\nselection_levels = []\nfor i in range(len(frames)):\n    level = 0\n    if i in struct_cur_idxs:\n        level += 1\n    if i in struct_fps_idxs:\n        level += 2\n    if level == 0:\n        level = \"Not selected\"\n    elif level == 1:\n        level = \"CUR\"\n    elif level == 2:\n        level = \"FPS\"\n    else:\n        level = \"FPS+CUR\"\n    selection_levels.append(level)\n\nproperties = chemiscope.extract_properties(frames)\n\nproperties.update(\n    {\n        \"PC1\": struct_soap_pca[:, 0],\n        \"PC2\": struct_soap_pca[:, 1],\n        \"selection\": np.array(selection_levels),\n    }\n)\n\nwidget = chemiscope.show(\n    frames,\n    properties=properties,\n    settings={\n        \"map\": {\n            \"x\": {\"property\": \"PC1\"},\n            \"y\": {\"property\": \"PC2\"},\n            \"color\": {\"property\": \"energy\"},\n            \"symbol\": \"selection\",\n            \"size\": {\"factor\": 50},\n        },\n        \"structure\": [{\"unitCell\": True}],\n    },\n)\nwidget.save(\"sample-selection.json.gz\")\n\n# display, if in notebook or sphinx\nwidget"
      ]
    },
    {
      "cell_type": "markdown",
      "metadata": {},
      "source": [
        "## Perform feature selection\n\nNow perform feature selection. In this example we will go back to using the\ndescriptor decomposed into atomic environments, as opposed to the one\ndecomposed into structure environments, but only use FPS for brevity.\n\n"
      ]
    },
    {
      "cell_type": "code",
      "execution_count": null,
      "metadata": {
        "collapsed": false
      },
      "outputs": [],
      "source": [
        "print(\"----Feature selection-----\")\n\n# Define the number of features to select\nn_features = 200\n\n# FPS feature selection\nfeat_fps = feature_selection.FPS(n_to_select=n_features, initialize=\"random\").fit(\n    atom_soap_single_block\n)\n\n# Slice atomic descriptor along axis 1 to contain only the selected features\n# atom_soap_single_block_fps = atom_soap_single_block.block(0).values[:, feat_fps_idxs]\natom_soap_single_block_fps = metatensor.slice(\n    atom_soap_single_block,\n    axis=\"properties\",\n    labels=feat_fps.support.block(0).properties,\n)\n\nprint(\n    \"atomic descriptor shape before selection \",\n    atom_soap_single_block.block(0).values.shape,\n)\nprint(\n    \"atomic descriptor shape after selection \",\n    atom_soap_single_block_fps.block(0).values.shape,\n)"
      ]
    },
    {
      "cell_type": "markdown",
      "metadata": {},
      "source": [
        "## Perform feature selection (skmatter)\n\nNow perform feature selection. In this example we will go back to using the\ndescriptor decomposed into atomic environments, as opposed to the one\ndecomposed into structure environments, but only use FPS for brevity.\n\n"
      ]
    },
    {
      "cell_type": "code",
      "execution_count": null,
      "metadata": {
        "collapsed": false
      },
      "outputs": [],
      "source": [
        "print(\"----Feature selection (skmatter)-----\")\n\n# Define the number of features to select\nn_features = 200\n\n# FPS feature selection\nfeat_fps = skfeat_selection.FPS(n_to_select=n_features, initialize=\"random\").fit(\n    atom_soap_single_block.block(0).values\n)\nfeat_fps_idxs = feat_fps.selected_idx_\n\nprint(\"Feature indices obtained with FPS \", feat_fps_idxs)\n\n# Slice atomic descriptor along axis 1 to contain only the selected features\natom_dscrptr_fps = atom_soap_single_block.block(0).values[:, feat_fps_idxs]\n\nprint(\n    \"atomic descriptor shape before selection \",\n    atom_soap_single_block.block(0).values.shape,\n)\nprint(\"atomic descriptor shape after selection \", atom_dscrptr_fps.shape)"
      ]
    }
  ],
  "metadata": {
    "kernelspec": {
      "display_name": "Python 3",
      "language": "python",
      "name": "python3"
    },
    "language_info": {
      "codemirror_mode": {
        "name": "ipython",
        "version": 3
      },
      "file_extension": ".py",
      "mimetype": "text/x-python",
      "name": "python",
      "nbconvert_exporter": "python",
      "pygments_lexer": "ipython3",
      "version": "3.11.9"
    }
  },
  "nbformat": 4,
  "nbformat_minor": 0
}